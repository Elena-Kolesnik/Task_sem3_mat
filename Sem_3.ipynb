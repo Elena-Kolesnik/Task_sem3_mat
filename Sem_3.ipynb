{
  "nbformat": 4,
  "nbformat_minor": 0,
  "metadata": {
    "colab": {
      "provenance": []
    },
    "kernelspec": {
      "name": "python3",
      "display_name": "Python 3"
    },
    "language_info": {
      "name": "python"
    }
  },
  "cells": [
    {
      "cell_type": "markdown",
      "source": [
        "**Задача 1.** Даны значения зарплат из выборки выпускников: 100, 80, 75, 77, 89, 33, 45, 25, 65, 17, 30, 24, 57, 55, 70, 75, 65, 84, 90, 150. Посчитать (желательно без использования статистических методов наподобие std, var, mean) среднее арифметическое, среднее квадратичное отклонение, смещенную и несмещенную оценки дисперсий для данной выборки."
      ],
      "metadata": {
        "id": "wzzgq8CE8zR_"
      }
    },
    {
      "cell_type": "code",
      "source": [
        "import pandas as pd\n",
        "from math import factorial as f\n",
        "from math import sqrt"
      ],
      "metadata": {
        "id": "kZtMHCRu9ZnB"
      },
      "execution_count": 1,
      "outputs": []
    },
    {
      "cell_type": "markdown",
      "source": [
        "**Среднее арифметическое:**\n",
        "\n",
        " \n",
        " \n"
      ],
      "metadata": {
        "id": "cHsXLJju9rq4"
      }
    },
    {
      "cell_type": "code",
      "source": [
        "array = pd.Series([100, 80, 75, 77, 89, 33, 45, 25, 65, 17, 30, 24, 57, 55, 70, 75, 65, 84, 90, 150])\n",
        "X = array.sum() / array.count()\n",
        "X"
      ],
      "metadata": {
        "colab": {
          "base_uri": "https://localhost:8080/"
        },
        "id": "CO0fxLkpAGv6",
        "outputId": "31e6dee5-e79f-4531-ed19-e8eb67d1ba2e"
      },
      "execution_count": 2,
      "outputs": [
        {
          "output_type": "execute_result",
          "data": {
            "text/plain": [
              "65.3"
            ]
          },
          "metadata": {},
          "execution_count": 2
        }
      ]
    },
    {
      "cell_type": "markdown",
      "source": [
        "**Среднее квадратичное отклонение:**"
      ],
      "metadata": {
        "id": "H8PyZInqCb1a"
      }
    },
    {
      "cell_type": "code",
      "source": [
        "S = sqrt(((array - X) ** 2).sum() / array.count() - 1)\n",
        "S"
      ],
      "metadata": {
        "colab": {
          "base_uri": "https://localhost:8080/"
        },
        "id": "B7dmxvywC5YJ",
        "outputId": "4c6cd39c-6136-49d8-e35b-deb08148f13d"
      },
      "execution_count": 3,
      "outputs": [
        {
          "output_type": "execute_result",
          "data": {
            "text/plain": [
              "30.807628925316536"
            ]
          },
          "metadata": {},
          "execution_count": 3
        }
      ]
    },
    {
      "cell_type": "markdown",
      "source": [
        "**Смещенная дисперсия:**"
      ],
      "metadata": {
        "id": "KQ4_my8DDAl3"
      }
    },
    {
      "cell_type": "code",
      "source": [
        "D1 = ((array - X) ** 2).sum() / array.count()\n",
        "D1"
      ],
      "metadata": {
        "colab": {
          "base_uri": "https://localhost:8080/"
        },
        "id": "qVdQHdfdDF24",
        "outputId": "0bc633d8-0eb3-42b5-80bb-61229434affc"
      },
      "execution_count": 4,
      "outputs": [
        {
          "output_type": "execute_result",
          "data": {
            "text/plain": [
              "950.11"
            ]
          },
          "metadata": {},
          "execution_count": 4
        }
      ]
    },
    {
      "cell_type": "markdown",
      "source": [
        "**Несмещенная дисперсия:**"
      ],
      "metadata": {
        "id": "W7nZASn_Dwnl"
      }
    },
    {
      "cell_type": "code",
      "source": [
        "D2 = ((array - X) ** 2).sum() / (array.count() - 1)\n",
        "D2"
      ],
      "metadata": {
        "colab": {
          "base_uri": "https://localhost:8080/"
        },
        "id": "Xg41cbCyDzZr",
        "outputId": "c0a10808-9f91-479a-9cd4-cf367a4bf29e"
      },
      "execution_count": 5,
      "outputs": [
        {
          "output_type": "execute_result",
          "data": {
            "text/plain": [
              "1000.1157894736842"
            ]
          },
          "metadata": {},
          "execution_count": 5
        }
      ]
    },
    {
      "cell_type": "markdown",
      "source": [
        "**Задача 2.** В первом ящике находится 8 мячей, из которых 5 - белые. Во втором ящике - 12 мячей, из которых 5 белых. Из первого ящика вытаскивают случайным образом два мяча, из второго - 4. Какова вероятность того, что 3 мяча белые?"
      ],
      "metadata": {
        "id": "KjnlA51PEOlN"
      }
    },
    {
      "cell_type": "markdown",
      "source": [
        "***Варианты вытаскивания:***\n",
        "\n",
        "2 белых с первой корзины + 1 белый и 3 другого цвета со второй;\n",
        "\n",
        "1 белый и 1 другого цвета с первой корзины + 2 белых и 2 другого цвета со второй;\n",
        "\n",
        "2 другого цвета с первой корзины +\t3 белых и 1 другого цвета со второй.\n"
      ],
      "metadata": {
        "id": "XTxDn0amILKF"
      }
    },
    {
      "cell_type": "code",
      "source": [
        "PA1 = (f(5) / (f(2) * f(5 - 2))) / (f(8) / (f(2) * f(8 - 2)))\n",
        "PA2 = (f(5) / (f(1) * f(5 - 1))) * (f(7) / (f(3) * f(7 - 3))) / (f(12) / (f(4) * f(12 - 4)))\n",
        "PA3 = (f(5) / (f(1) * f(5 - 1))) * (f(3) / (f(1) * f(3 - 1))) / (f(8) / (f(2) * f(8 - 2)))\n",
        "PА4 = (f(5) / (f(2) * f(5 - 2))) * (f(7) / (f(2) * f(7 - 2))) / (f(12) / (f(4) * f(12 - 4)))\n",
        "PA5 = (f(3) / (f(2) * f(3 - 2))) / (f(8) / (f(2) * f(8 - 2)))\n",
        "PA6 = (f(5) / (f(3) * f(5 - 3))) * (f(7) / (f(1) * f(7 - 1))) / (f(12) / (f(4) * f(12 - 4)))\n",
        "PA = PA1 * PA2 + PA3 * PА4 + PA5 * PA6\n",
        "PA"
      ],
      "metadata": {
        "colab": {
          "base_uri": "https://localhost:8080/"
        },
        "id": "HfRnNkUiH0iT",
        "outputId": "076114f6-7359-4140-b297-e47974347380"
      },
      "execution_count": 10,
      "outputs": [
        {
          "output_type": "execute_result",
          "data": {
            "text/plain": [
              "0.3686868686868687"
            ]
          },
          "metadata": {},
          "execution_count": 10
        }
      ]
    },
    {
      "cell_type": "markdown",
      "source": [
        "**Задача 3.** На соревновании по биатлону один из трех спортсменов стреляет и попадает в мишень. Вероятность попадания для первого спортсмена равна 0.9, для второго — 0.8, для третьего — 0.6. Найти вероятность того, что выстрел произведен: \n",
        "\n",
        "a) первым спортсменом \n",
        "\n",
        "б) вторым спортсменом \n",
        "\n",
        "в) третьим спортсменом."
      ],
      "metadata": {
        "id": "WfzObbpJMnwo"
      }
    },
    {
      "cell_type": "code",
      "source": [
        "Pb1 = 1/3 # первый спортсмен\n",
        "Pb2 = 1/3 # второй спортсмен\n",
        "Pb3 = 1/3 # третий спортсмен\n",
        "\n",
        "PA = Pb1 * 0.9 + Pb2 * 0.8 + Pb3 * 0.6\n",
        "first = (Pb1 * 0.9) / PA \n",
        "second = (Pb2 * 0.8) / PA \n",
        "third = (Pb3 * 0.6) / PA \n",
        "\n",
        "first, second, third"
      ],
      "metadata": {
        "colab": {
          "base_uri": "https://localhost:8080/"
        },
        "id": "nAmjEtc6M8GV",
        "outputId": "e23df7f3-5806-41fa-d165-592e2e980dd2"
      },
      "execution_count": 15,
      "outputs": [
        {
          "output_type": "execute_result",
          "data": {
            "text/plain": [
              "(0.391304347826087, 0.3478260869565218, 0.2608695652173913)"
            ]
          },
          "metadata": {},
          "execution_count": 15
        }
      ]
    },
    {
      "cell_type": "markdown",
      "source": [
        "**Задача 4.** В университет на факультеты A и B поступило равное количество студентов, а на факультет C студентов поступило столько же, сколько на A и B вместе. Вероятность того, что студент факультета A сдаст первую сессию, равна 0.8. Для студента факультета B эта вероятность равна 0.7, а для студента факультета C - 0.9. Студент сдал первую сессию. Какова вероятность, что он учится: \n",
        "\n",
        "a)на факультете A \n",
        "\n",
        "б)на факультете B \n",
        "\n",
        "в)на факультете C?"
      ],
      "metadata": {
        "id": "5vEKOWhdOodA"
      }
    },
    {
      "cell_type": "code",
      "source": [
        "PA = 1/4 * 0.8 + 1/4 * 0.7 + 1/2 * 0.9\n",
        "A = (1/4 * 0.8) / PA \n",
        "B = (1/4 * 0.7) / PA \n",
        "C = (1/2 * 0.9) / PA \n",
        "\n",
        "A, B, C"
      ],
      "metadata": {
        "colab": {
          "base_uri": "https://localhost:8080/"
        },
        "id": "NOFZKrpmPDWi",
        "outputId": "7d0adba5-dd7a-4eb5-9cc5-61885b6bd2d3"
      },
      "execution_count": 16,
      "outputs": [
        {
          "output_type": "execute_result",
          "data": {
            "text/plain": [
              "(0.24242424242424246, 0.21212121212121213, 0.5454545454545455)"
            ]
          },
          "metadata": {},
          "execution_count": 16
        }
      ]
    },
    {
      "cell_type": "markdown",
      "source": [
        "**Задача 5.** Устройство состоит из трех деталей. Для первой детали вероятность выйти из строя в первый месяц равна 0.1, для второй - 0.2, для третьей - 0.25. Какова вероятность того, что в первый месяц выйдут из строя: \n",
        "\n",
        "а) все детали \n",
        "\n",
        "b) только две детали \n",
        "\n",
        "c) хотя бы одна деталь \n",
        "\n",
        "d) от одной до двух деталей?"
      ],
      "metadata": {
        "id": "qgti0F4FP3lx"
      }
    },
    {
      "cell_type": "code",
      "source": [
        "P1 = 0.1 # вероятность того, что выйдет из строя 1 деталь\n",
        "P_no_1 = 0.9 # вероятность того, что не выйдет из строя 1 деталь\n",
        "P2 = 0.2 # вероятность того, что выйдет из строя 2 деталь\n",
        "P_no_2 = 0.8 # вероятность того, что не выйдет из строя 2 деталь\n",
        "P3 = 0.25 # вероятность того, что выйдет из строя 3 деталь\n",
        "P_no_3 = 0.75 # вероятность того, что не выйдет из строя 3 деталь\n",
        "\n",
        "A = P1 * P2 * P3 # Вероятность, что все детали выйдут из строя\n",
        "K = P_no_1 * P_no_2 * P_no_3 # Ни одна деталь не выйдет из строя\n",
        "B = (P1 * P2 * P_no_3) + (P1 * P_no_2 * P3) + (P_no_1 * P2 * P3) # Только две детали выйдут из строя\n",
        "C = 1 - K # Хотя бы одна деталь выйдет из строя\n",
        "X = (P1 * P_no_2 * P_no_3) + (P_no_1 * P2 * P_no_3) + (P_no_1 * P_no_2 * P3) # Только одна деталь выйдет из строя\n",
        "D = X + B # От одной до двух деталей выйдет из строя\n",
        "\n",
        "A, B, C, D"
      ],
      "metadata": {
        "colab": {
          "base_uri": "https://localhost:8080/"
        },
        "id": "bBduHkVdQKO2",
        "outputId": "70d013da-bd3b-4938-bf23-866b06ffb6e9"
      },
      "execution_count": 20,
      "outputs": [
        {
          "output_type": "execute_result",
          "data": {
            "text/plain": [
              "(0.005000000000000001, 0.08000000000000002, 0.45999999999999996, 0.455)"
            ]
          },
          "metadata": {},
          "execution_count": 20
        }
      ]
    }
  ]
}